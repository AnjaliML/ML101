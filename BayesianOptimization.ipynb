{
 "cells": [
  {
   "cell_type": "markdown",
   "metadata": {},
   "source": [
    "### Specifying the function to be optimized"
   ]
  },
  {
   "cell_type": "code",
   "execution_count": 1,
   "metadata": {},
   "outputs": [],
   "source": [
    "def black_box_function(x, y):\n",
    "    \"\"\"Function with unknown internals we wish to maximize.\n",
    "\n",
    "    This is just serving as an example, for all intents and\n",
    "    purposes think of the internals of this function, i.e.: the process\n",
    "    which generates its output values, as unknown.\n",
    "    \"\"\"\n",
    "    return -x ** 2 - (y - 1) ** 2 + 1\n"
   ]
  },
  {
   "cell_type": "markdown",
   "metadata": {},
   "source": [
    "### Getting Started"
   ]
  },
  {
   "cell_type": "code",
   "execution_count": 5,
   "metadata": {},
   "outputs": [],
   "source": [
    "from bayes_opt import BayesianOptimization\n",
    "# Bounded region of parameter space\n",
    "pbounds = {'x': (2,4), 'y': (-3,3)}\n",
    "optimizer = BayesianOptimization(\n",
    "  f=black_box_function,\n",
    "  pbounds=pbounds,\n",
    "  verbose=2, # verbose = 1 prints only when a maximum is observed, verbose = 0 is silent\n",
    "  random_state=1\n",
    ") \n"
   ]
  },
  {
   "cell_type": "code",
   "execution_count": 6,
   "metadata": {},
   "outputs": [
    {
     "name": "stdout",
     "output_type": "stream",
     "text": [
      "|   iter    |  target   |     x     |     y     |\n",
      "-------------------------------------------------\n",
      "| \u001b[39m1        \u001b[39m | \u001b[39m-7.135   \u001b[39m | \u001b[39m2.834    \u001b[39m | \u001b[39m1.322    \u001b[39m |\n",
      "| \u001b[39m2        \u001b[39m | \u001b[39m-7.78    \u001b[39m | \u001b[39m2.0      \u001b[39m | \u001b[39m-1.186   \u001b[39m |\n",
      "| \u001b[39m3        \u001b[39m | \u001b[39m-7.391   \u001b[39m | \u001b[39m2.841    \u001b[39m | \u001b[39m1.567    \u001b[39m |\n",
      "| \u001b[35m4        \u001b[39m | \u001b[35m-7.09    \u001b[39m | \u001b[35m2.828    \u001b[39m | \u001b[35m1.305    \u001b[39m |\n",
      "| \u001b[39m5        \u001b[39m | \u001b[39m-7.842   \u001b[39m | \u001b[39m2.776    \u001b[39m | \u001b[39m-0.0644  \u001b[39m |\n",
      "=================================================\n"
     ]
    }
   ],
   "source": [
    "optimizer.maximize(\n",
    "    init_points=2,\n",
    "    n_iter=3,\n",
    ")\n"
   ]
  },
  {
   "cell_type": "code",
   "execution_count": 7,
   "metadata": {},
   "outputs": [
    {
     "name": "stdout",
     "output_type": "stream",
     "text": [
      "{'target': -7.089552795751747, 'params': {'x': 2.8278543172354595, 'y': 1.3046190346063733}}\n"
     ]
    }
   ],
   "source": [
    "print(optimizer.max)\n"
   ]
  },
  {
   "cell_type": "code",
   "execution_count": 8,
   "metadata": {},
   "outputs": [
    {
     "name": "stdout",
     "output_type": "stream",
     "text": [
      "Iteration 0: \n",
      "\t{'target': -7.135455292718879, 'params': {'x': 2.8340440094051482, 'y': 1.3219469606529486}}\n",
      "Iteration 1: \n",
      "\t{'target': -7.779531005607566, 'params': {'x': 2.0002287496346898, 'y': -1.1860045642089614}}\n",
      "Iteration 2: \n",
      "\t{'target': -7.390502596642655, 'params': {'x': 2.8406441080806806, 'y': 1.5667835988004315}}\n",
      "Iteration 3: \n",
      "\t{'target': -7.089552795751747, 'params': {'x': 2.8278543172354595, 'y': 1.3046190346063733}}\n",
      "Iteration 4: \n",
      "\t{'target': -7.841680406240954, 'params': {'x': 2.7764615902126666, 'y': -0.06439722111376445}}\n"
     ]
    }
   ],
   "source": [
    "for i, res in enumerate(optimizer.res):\n",
    "    print(\"Iteration {}: \\n\\t{}\".format(i, res))\n"
   ]
  },
  {
   "cell_type": "markdown",
   "metadata": {},
   "source": [
    "### Changing bounds"
   ]
  },
  {
   "cell_type": "code",
   "execution_count": 9,
   "metadata": {},
   "outputs": [
    {
     "name": "stdout",
     "output_type": "stream",
     "text": [
      "|   iter    |  target   |     x     |     y     |\n",
      "-------------------------------------------------\n",
      "| \u001b[35m6        \u001b[39m | \u001b[35m-6.503   \u001b[39m | \u001b[35m2.738    \u001b[39m | \u001b[35m1.087    \u001b[39m |\n",
      "| \u001b[35m7        \u001b[39m | \u001b[35m-4.752   \u001b[39m | \u001b[35m2.398    \u001b[39m | \u001b[35m0.9646   \u001b[39m |\n",
      "| \u001b[35m8        \u001b[39m | \u001b[35m-3.036   \u001b[39m | \u001b[35m2.009    \u001b[39m | \u001b[35m0.9578   \u001b[39m |\n",
      "| \u001b[35m9        \u001b[39m | \u001b[35m-0.4794  \u001b[39m | \u001b[35m1.196    \u001b[39m | \u001b[35m1.222    \u001b[39m |\n",
      "| \u001b[35m10       \u001b[39m | \u001b[35m0.7132   \u001b[39m | \u001b[35m-0.2876  \u001b[39m | \u001b[35m1.452    \u001b[39m |\n",
      "=================================================\n"
     ]
    }
   ],
   "source": [
    "optimizer.set_bounds(new_bounds={\"x\": (-2,3)})\n",
    "optimizer.maximize(\n",
    "  init_points=0,\n",
    "  n_iter=5,\n",
    ")"
   ]
  },
  {
   "cell_type": "markdown",
   "metadata": {},
   "source": [
    "### Guiding the optimization"
   ]
  },
  {
   "cell_type": "markdown",
   "metadata": {},
   "source": [
    "It is often the case that we have an idea of regions of the parameter space where the maximum of our function might lie. For these situations the BayesianOptimization object allows the user to specify specific points to be probed. By default these will be explored lazily (lazy=True), meaning these points will be evaluated only the next time you call maximize. This probing process happens before the gaussian process takes over.\n",
    "\n",
    "Parameters can be passed as dictionaries such as below:"
   ]
  },
  {
   "cell_type": "code",
   "execution_count": 10,
   "metadata": {},
   "outputs": [
    {
     "name": "stdout",
     "output_type": "stream",
     "text": [
      "['x', 'y']\n",
      "|   iter    |  target   |     x     |     y     |\n",
      "-------------------------------------------------\n",
      "| \u001b[39m11       \u001b[39m | \u001b[39m0.66     \u001b[39m | \u001b[39m0.5      \u001b[39m | \u001b[39m0.7      \u001b[39m |\n",
      "| \u001b[39m12       \u001b[39m | \u001b[39m0.1      \u001b[39m | \u001b[39m-0.3     \u001b[39m | \u001b[39m0.1      \u001b[39m |\n",
      "=================================================\n"
     ]
    }
   ],
   "source": [
    "optimizer.probe(\n",
    "  params = {\"x\": 0.5, \"y\": 0.7},\n",
    "  lazy=True,\n",
    ")\n",
    "print(optimizer.space.keys)\n",
    "optimizer.probe(\n",
    "  params =[-0.3, 0.1],\n",
    "  lazy=True,\n",
    ")\n",
    "optimizer.maximize(init_points=0, n_iter=0)"
   ]
  },
  {
   "cell_type": "markdown",
   "metadata": {},
   "source": [
    "### Saving, loading and restarting"
   ]
  },
  {
   "cell_type": "markdown",
   "metadata": {},
   "source": [
    "By default you can follow the progress of your optimization by setting verbose>0 when instantiating the BayesianOptimization object. If you need more control over logging/alerting you will need to use an observer. For more information about observers checkout the advanced tour notebook. Here we will only see how to use the native JSONLogger object to save to and load progress from files."
   ]
  },
  {
   "cell_type": "markdown",
   "metadata": {},
   "source": [
    "### Saving progress"
   ]
  },
  {
   "cell_type": "code",
   "execution_count": 11,
   "metadata": {},
   "outputs": [],
   "source": [
    "from bayes_opt.logger import JSONLogger\n",
    "from bayes_opt.event import Events\n"
   ]
  },
  {
   "cell_type": "code",
   "execution_count": 12,
   "metadata": {},
   "outputs": [
    {
     "name": "stdout",
     "output_type": "stream",
     "text": [
      "|   iter    |  target   |     x     |     y     |\n",
      "-------------------------------------------------\n",
      "| \u001b[39m13       \u001b[39m | \u001b[39m-12.48   \u001b[39m | \u001b[39m-1.266   \u001b[39m | \u001b[39m-2.446   \u001b[39m |\n",
      "| \u001b[39m14       \u001b[39m | \u001b[39m-3.854   \u001b[39m | \u001b[39m-1.069   \u001b[39m | \u001b[39m-0.9266  \u001b[39m |\n",
      "| \u001b[39m15       \u001b[39m | \u001b[39m-7.0     \u001b[39m | \u001b[39m-2.0     \u001b[39m | \u001b[39m3.0      \u001b[39m |\n",
      "| \u001b[39m16       \u001b[39m | \u001b[39m-3.05    \u001b[39m | \u001b[39m-1.965   \u001b[39m | \u001b[39m0.5651   \u001b[39m |\n",
      "| \u001b[39m17       \u001b[39m | \u001b[39m-3.211   \u001b[39m | \u001b[39m0.4597   \u001b[39m | \u001b[39m3.0      \u001b[39m |\n",
      "=================================================\n"
     ]
    }
   ],
   "source": [
    "logger = JSONLogger(path=\"./logs.log\")\n",
    "optimizer.subscribe(Events.OPTIMIZATION_STEP, logger)\n",
    "optimizer.maximize(\n",
    "    init_points=2,\n",
    "    n_iter=3,\n",
    ")\n"
   ]
  },
  {
   "cell_type": "markdown",
   "metadata": {},
   "source": [
    "### Loading progress"
   ]
  },
  {
   "cell_type": "markdown",
   "metadata": {},
   "source": [
    "Naturally, if you stored progress you will be able to load that onto a new instance of BayesianOptimization. The easiest way to do it is by invoking the load_logs function, from the util submodule."
   ]
  },
  {
   "cell_type": "code",
   "execution_count": 13,
   "metadata": {},
   "outputs": [
    {
     "name": "stdout",
     "output_type": "stream",
     "text": [
      "0\n",
      "New optimizer is now aware of 5 points.\n",
      "|   iter    |  target   |     x     |     y     |\n",
      "-------------------------------------------------\n",
      "| \u001b[39m1        \u001b[39m | \u001b[39m0.0603   \u001b[39m | \u001b[39m0.7596   \u001b[39m | \u001b[39m0.3977   \u001b[39m |\n",
      "| \u001b[39m2        \u001b[39m | \u001b[39m-1.578   \u001b[39m | \u001b[39m1.585    \u001b[39m | \u001b[39m1.253    \u001b[39m |\n",
      "| \u001b[39m3        \u001b[39m | \u001b[39m-4.79    \u001b[39m | \u001b[39m1.888    \u001b[39m | \u001b[39m-0.4925  \u001b[39m |\n"
     ]
    },
    {
     "name": "stderr",
     "output_type": "stream",
     "text": [
      "/Users/anjalisuman/anaconda3/lib/python3.12/site-packages/bayes_opt/bayesian_optimization.py:225: UserWarning: \n",
      "Data point [-1.26622055 -2.44596843] is outside the bounds of the parameter space. \n",
      "  self._space.register(params, target, constraint_value)\n",
      "/Users/anjalisuman/anaconda3/lib/python3.12/site-packages/bayes_opt/bayesian_optimization.py:225: UserWarning: \n",
      "Data point [-2.  3.] is outside the bounds of the parameter space. \n",
      "  self._space.register(params, target, constraint_value)\n",
      "/Users/anjalisuman/anaconda3/lib/python3.12/site-packages/bayes_opt/bayesian_optimization.py:225: UserWarning: \n",
      "Data point [0.45968581 3.        ] is outside the bounds of the parameter space. \n",
      "  self._space.register(params, target, constraint_value)\n"
     ]
    },
    {
     "name": "stdout",
     "output_type": "stream",
     "text": [
      "| \u001b[35m4        \u001b[39m | \u001b[35m0.9607   \u001b[39m | \u001b[35m0.08382  \u001b[39m | \u001b[35m1.18     \u001b[39m |\n",
      "| \u001b[39m5        \u001b[39m | \u001b[39m0.3744   \u001b[39m | \u001b[39m-0.4092  \u001b[39m | \u001b[39m0.3231   \u001b[39m |\n",
      "| \u001b[39m6        \u001b[39m | \u001b[39m0.4804   \u001b[39m | \u001b[39m-0.6529  \u001b[39m | \u001b[39m1.305    \u001b[39m |\n",
      "| \u001b[39m7        \u001b[39m | \u001b[39m0.9304   \u001b[39m | \u001b[39m0.0189   \u001b[39m | \u001b[39m0.7368   \u001b[39m |\n",
      "| \u001b[39m8        \u001b[39m | \u001b[39m0.6895   \u001b[39m | \u001b[39m0.5539   \u001b[39m | \u001b[39m1.061    \u001b[39m |\n",
      "| \u001b[39m9        \u001b[39m | \u001b[39m0.866    \u001b[39m | \u001b[39m-0.3598  \u001b[39m | \u001b[39m0.9328   \u001b[39m |\n",
      "| \u001b[39m10       \u001b[39m | \u001b[39m0.7173   \u001b[39m | \u001b[39m-0.1128  \u001b[39m | \u001b[39m1.52     \u001b[39m |\n",
      "=================================================\n"
     ]
    }
   ],
   "source": [
    "from bayes_opt.util import load_logs\n",
    "new_optimizer = BayesianOptimization(\n",
    "    f=black_box_function,\n",
    "    pbounds={\"x\": (-2, 2), \"y\": (-2, 2)},\n",
    "    verbose=2,\n",
    "    random_state=7,\n",
    ")\n",
    "print(len(new_optimizer.space))\n",
    "load_logs(new_optimizer, logs=[\"./logs.log\"]);\n",
    "print(\"New optimizer is now aware of {} points.\".format(len(new_optimizer.space)))\n",
    "new_optimizer.maximize(\n",
    "    init_points=0,\n",
    "    n_iter=10,\n",
    ")\n"
   ]
  },
  {
   "cell_type": "code",
   "execution_count": null,
   "metadata": {},
   "outputs": [],
   "source": [
    "\n"
   ]
  }
 ],
 "metadata": {
  "kernelspec": {
   "display_name": "base",
   "language": "python",
   "name": "python3"
  },
  "language_info": {
   "codemirror_mode": {
    "name": "ipython",
    "version": 3
   },
   "file_extension": ".py",
   "mimetype": "text/x-python",
   "name": "python",
   "nbconvert_exporter": "python",
   "pygments_lexer": "ipython3",
   "version": "3.12.4"
  }
 },
 "nbformat": 4,
 "nbformat_minor": 2
}
